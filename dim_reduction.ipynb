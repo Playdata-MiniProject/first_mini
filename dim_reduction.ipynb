{
 "cells": [
  {
   "cell_type": "markdown",
   "id": "eac45a0c",
   "metadata": {},
   "source": [
    "## 데이터 하나 : 300차원의 벡터 5개 => 300차원의 벡터 1개\n",
    "5개의 벡터에 대한 중심 벡터를 찾아 저장"
   ]
  },
  {
   "cell_type": "code",
   "execution_count": 4,
   "id": "82df244f",
   "metadata": {},
   "outputs": [
    {
     "name": "stderr",
     "output_type": "stream",
     "text": [
      "C:\\Users\\user\\anaconda3\\lib\\site-packages\\numpy\\_distributor_init.py:30: UserWarning: loaded more than 1 DLL from .libs:\n",
      "C:\\Users\\user\\anaconda3\\lib\\site-packages\\numpy\\.libs\\libopenblas.FB5AE2TYXYH2IJRDKGDGQ3XBKLKTF43H.gfortran-win_amd64.dll\n",
      "C:\\Users\\user\\anaconda3\\lib\\site-packages\\numpy\\.libs\\libopenblas64__v0.3.21-gcc_10_3_0.dll\n",
      "  warnings.warn(\"loaded more than 1 DLL from .libs:\"\n"
     ]
    }
   ],
   "source": [
    "import numpy as np\n",
    "import pandas as pd\n",
    "import pickle\n",
    "import matplotlib.pyplot as plt\n",
    "from sklearn.manifold import TSNE\n",
    "import warnings\n",
    "warnings.filterwarnings('ignore')"
   ]
  },
  {
   "cell_type": "markdown",
   "id": "cf03508d",
   "metadata": {},
   "source": [
    "## 데이터 정제\n",
    "진행 과정에서 요약문이 5단어 이하인 경우 키워드 추출에 실패 -> 정제 후 다시 저장 필요"
   ]
  },
  {
   "cell_type": "code",
   "execution_count": 93,
   "id": "8e23b99b",
   "metadata": {},
   "outputs": [
    {
     "data": {
      "text/html": [
       "<div>\n",
       "<style scoped>\n",
       "    .dataframe tbody tr th:only-of-type {\n",
       "        vertical-align: middle;\n",
       "    }\n",
       "\n",
       "    .dataframe tbody tr th {\n",
       "        vertical-align: top;\n",
       "    }\n",
       "\n",
       "    .dataframe thead th {\n",
       "        text-align: right;\n",
       "    }\n",
       "</style>\n",
       "<table border=\"1\" class=\"dataframe\">\n",
       "  <thead>\n",
       "    <tr style=\"text-align: right;\">\n",
       "      <th></th>\n",
       "      <th>result</th>\n",
       "    </tr>\n",
       "  </thead>\n",
       "  <tbody>\n",
       "    <tr>\n",
       "      <th>0</th>\n",
       "      <td>[[0.022363545, -0.028911056, -0.040336788, 0.0...</td>\n",
       "    </tr>\n",
       "    <tr>\n",
       "      <th>1</th>\n",
       "      <td>[[-0.116084486, -0.016968077, 0.03961698, 0.08...</td>\n",
       "    </tr>\n",
       "    <tr>\n",
       "      <th>2</th>\n",
       "      <td>[[0.013123234, 0.0094847735, 0.019651216, 0.10...</td>\n",
       "    </tr>\n",
       "    <tr>\n",
       "      <th>3</th>\n",
       "      <td>[[-0.036596924, -0.054901063, -0.06675389, 0.0...</td>\n",
       "    </tr>\n",
       "    <tr>\n",
       "      <th>4</th>\n",
       "      <td>[[0.013123234, 0.0094847735, 0.019651216, 0.10...</td>\n",
       "    </tr>\n",
       "  </tbody>\n",
       "</table>\n",
       "</div>"
      ],
      "text/plain": [
       "                                              result\n",
       "0  [[0.022363545, -0.028911056, -0.040336788, 0.0...\n",
       "1  [[-0.116084486, -0.016968077, 0.03961698, 0.08...\n",
       "2  [[0.013123234, 0.0094847735, 0.019651216, 0.10...\n",
       "3  [[-0.036596924, -0.054901063, -0.06675389, 0.0...\n",
       "4  [[0.013123234, 0.0094847735, 0.019651216, 0.10..."
      ]
     },
     "execution_count": 93,
     "metadata": {},
     "output_type": "execute_result"
    }
   ],
   "source": [
    "with open('D:/playdata_mini_proj/data/vectors.pickle', 'rb') as file:\n",
    "    vectors = pickle.load(file)\n",
    "    \n",
    "vectors.head()"
   ]
  },
  {
   "cell_type": "code",
   "execution_count": 82,
   "id": "e7ac5131",
   "metadata": {},
   "outputs": [
    {
     "data": {
      "text/plain": [
       "[]"
      ]
     },
     "execution_count": 82,
     "metadata": {},
     "output_type": "execute_result"
    }
   ],
   "source": [
    "# 키워드 추출에 실패한 예\n",
    "vectors['result'][693]"
   ]
  },
  {
   "cell_type": "code",
   "execution_count": 94,
   "id": "b2f3ac39",
   "metadata": {},
   "outputs": [
    {
     "data": {
      "text/plain": [
       "Unnamed: 0                                                          693\n",
       "rgs_dt                                                         20230116\n",
       "tck_iem_cd                                                         LXFR\n",
       "til_ifo               The Zacks Analyst Blog Highlights Luxfer Holdi...\n",
       "ctgy_cfc_ifo                                                 Technology\n",
       "mdi_ifo                                                           Zacks\n",
       "news_smy_ifo                                      For Immediate Release\n",
       "rld_ose_iem_tck_cd                                OZK,LXFR,SNX,ALG,LKFN\n",
       "url_ifo               https://www.nasdaq.com/articles/the-zacks-anal...\n",
       "Name: 693, dtype: object"
      ]
     },
     "execution_count": 94,
     "metadata": {},
     "output_type": "execute_result"
    }
   ],
   "source": [
    "# 추출실패한 경우의 원본 데이터 확인\n",
    "rss=pd.read_csv('D:/playdata_mini_proj/data/RSS_for_keybert.csv', encoding='ANSI')\n",
    "rss.iloc[693]"
   ]
  },
  {
   "cell_type": "code",
   "execution_count": 95,
   "id": "06975161",
   "metadata": {},
   "outputs": [],
   "source": [
    "# 추출실패한 경우의 키워드 추출 데이터 확인\n",
    "with open('D:/playdata_mini_proj/data/keybert_result.pickle', 'rb') as file:\n",
    "    keybert_result = pickle.load(file)"
   ]
  },
  {
   "cell_type": "code",
   "execution_count": 85,
   "id": "f1c50c5b",
   "metadata": {},
   "outputs": [
    {
     "name": "stdout",
     "output_type": "stream",
     "text": [
      "trash count 1403\n"
     ]
    }
   ],
   "source": [
    "# 추출 실패한 데이터의 인덱스 추출\n",
    "count = 0\n",
    "trash = []\n",
    "for i in range(len(vectors)):\n",
    "    if len(vectors['result'][i]) == 0:\n",
    "        trash.append(i)\n",
    "        count += 1\n",
    "        \n",
    "print('trash count', count)"
   ]
  },
  {
   "cell_type": "code",
   "execution_count": 96,
   "id": "06595841",
   "metadata": {},
   "outputs": [],
   "source": [
    "# 추출한 인덱스의 데이터 제거\n",
    "for i in trash:\n",
    "    vectors.drop(i,axis=0,inplace=True)\n",
    "    rss.drop(i,axis=0,inplace=True)\n",
    "    keybert_result.drop(i,axis=0,inplace=True)"
   ]
  },
  {
   "cell_type": "code",
   "execution_count": 97,
   "id": "0fa2f030",
   "metadata": {},
   "outputs": [],
   "source": [
    "# 인덱스 수정\n",
    "vectors.reset_index(inplace=True)\n",
    "rss.reset_index(inplace=True)\n",
    "keybert_result.reset_index(inplace=True)"
   ]
  },
  {
   "cell_type": "code",
   "execution_count": 98,
   "id": "1f261c15",
   "metadata": {},
   "outputs": [],
   "source": [
    "# 자동 추가된 이전 인덱스 정보를 담은 열 제거\n",
    "vectors.drop('index',axis=1,inplace=True)\n",
    "rss.drop('index',axis=1,inplace=True)\n",
    "keybert_result.drop('index',axis=1,inplace=True)"
   ]
  },
  {
   "cell_type": "code",
   "execution_count": 93,
   "id": "e99b9b8c",
   "metadata": {},
   "outputs": [
    {
     "data": {
      "text/plain": [
       "result    [[-0.027555251, 0.026801134, -0.050310906, 0.0...\n",
       "Name: 702, dtype: object"
      ]
     },
     "execution_count": 93,
     "metadata": {},
     "output_type": "execute_result"
    }
   ],
   "source": [
    "# 결과 확인\n",
    "vectors.iloc[693]"
   ]
  },
  {
   "cell_type": "code",
   "execution_count": 94,
   "id": "fee5a89d",
   "metadata": {},
   "outputs": [
    {
     "data": {
      "text/html": [
       "<div>\n",
       "<style scoped>\n",
       "    .dataframe tbody tr th:only-of-type {\n",
       "        vertical-align: middle;\n",
       "    }\n",
       "\n",
       "    .dataframe tbody tr th {\n",
       "        vertical-align: top;\n",
       "    }\n",
       "\n",
       "    .dataframe thead th {\n",
       "        text-align: right;\n",
       "    }\n",
       "</style>\n",
       "<table border=\"1\" class=\"dataframe\">\n",
       "  <thead>\n",
       "    <tr style=\"text-align: right;\">\n",
       "      <th></th>\n",
       "      <th>result</th>\n",
       "    </tr>\n",
       "  </thead>\n",
       "  <tbody>\n",
       "    <tr>\n",
       "      <th>0</th>\n",
       "      <td>[[0.022363545, -0.028911056, -0.040336788, 0.0...</td>\n",
       "    </tr>\n",
       "    <tr>\n",
       "      <th>1</th>\n",
       "      <td>[[-0.116084486, -0.016968077, 0.03961698, 0.08...</td>\n",
       "    </tr>\n",
       "    <tr>\n",
       "      <th>2</th>\n",
       "      <td>[[0.013123234, 0.0094847735, 0.019651216, 0.10...</td>\n",
       "    </tr>\n",
       "    <tr>\n",
       "      <th>3</th>\n",
       "      <td>[[-0.036596924, -0.054901063, -0.06675389, 0.0...</td>\n",
       "    </tr>\n",
       "    <tr>\n",
       "      <th>4</th>\n",
       "      <td>[[0.013123234, 0.0094847735, 0.019651216, 0.10...</td>\n",
       "    </tr>\n",
       "  </tbody>\n",
       "</table>\n",
       "</div>"
      ],
      "text/plain": [
       "                                              result\n",
       "0  [[0.022363545, -0.028911056, -0.040336788, 0.0...\n",
       "1  [[-0.116084486, -0.016968077, 0.03961698, 0.08...\n",
       "2  [[0.013123234, 0.0094847735, 0.019651216, 0.10...\n",
       "3  [[-0.036596924, -0.054901063, -0.06675389, 0.0...\n",
       "4  [[0.013123234, 0.0094847735, 0.019651216, 0.10..."
      ]
     },
     "execution_count": 94,
     "metadata": {},
     "output_type": "execute_result"
    }
   ],
   "source": [
    "vectors.head()"
   ]
  },
  {
   "cell_type": "code",
   "execution_count": 95,
   "id": "ca10016f",
   "metadata": {},
   "outputs": [
    {
     "data": {
      "text/html": [
       "<div>\n",
       "<style scoped>\n",
       "    .dataframe tbody tr th:only-of-type {\n",
       "        vertical-align: middle;\n",
       "    }\n",
       "\n",
       "    .dataframe tbody tr th {\n",
       "        vertical-align: top;\n",
       "    }\n",
       "\n",
       "    .dataframe thead th {\n",
       "        text-align: right;\n",
       "    }\n",
       "</style>\n",
       "<table border=\"1\" class=\"dataframe\">\n",
       "  <thead>\n",
       "    <tr style=\"text-align: right;\">\n",
       "      <th></th>\n",
       "      <th>Unnamed: 0</th>\n",
       "      <th>rgs_dt</th>\n",
       "      <th>tck_iem_cd</th>\n",
       "      <th>til_ifo</th>\n",
       "      <th>ctgy_cfc_ifo</th>\n",
       "      <th>mdi_ifo</th>\n",
       "      <th>news_smy_ifo</th>\n",
       "      <th>rld_ose_iem_tck_cd</th>\n",
       "      <th>url_ifo</th>\n",
       "    </tr>\n",
       "  </thead>\n",
       "  <tbody>\n",
       "    <tr>\n",
       "      <th>0</th>\n",
       "      <td>0</td>\n",
       "      <td>20230102</td>\n",
       "      <td>NGS</td>\n",
       "      <td>Hoak &amp; Co. Urges NGS Board to Halt CEO Search ...</td>\n",
       "      <td>Investing</td>\n",
       "      <td>Fintel</td>\n",
       "      <td>Fintel reports that Hoak Public Equities, LP, ...</td>\n",
       "      <td>NGS</td>\n",
       "      <td>https://www.nasdaq.com/articles/hoak-co.-urges...</td>\n",
       "    </tr>\n",
       "    <tr>\n",
       "      <th>1</th>\n",
       "      <td>1</td>\n",
       "      <td>20230102</td>\n",
       "      <td>PFX</td>\n",
       "      <td>Here's Why PhenixFIN (PFX) is Poised for a Tur...</td>\n",
       "      <td>Stocks,Investing</td>\n",
       "      <td>Zacks</td>\n",
       "      <td>PhenixFIN  has been beaten down lately with to...</td>\n",
       "      <td>PFX</td>\n",
       "      <td>https://www.nasdaq.com/articles/heres-why-phen...</td>\n",
       "    </tr>\n",
       "    <tr>\n",
       "      <th>2</th>\n",
       "      <td>2</td>\n",
       "      <td>20230102</td>\n",
       "      <td>TYG</td>\n",
       "      <td>My Advice? Sell These 2 Dividend Funds in 2023</td>\n",
       "      <td>Markets,Stocks</td>\n",
       "      <td>BNK Invest</td>\n",
       "      <td>There's a disconnect setting up in the energy ...</td>\n",
       "      <td>FEN,TYG</td>\n",
       "      <td>https://www.nasdaq.com/articles/my-advice-sell...</td>\n",
       "    </tr>\n",
       "    <tr>\n",
       "      <th>3</th>\n",
       "      <td>3</td>\n",
       "      <td>20230102</td>\n",
       "      <td>NVIV</td>\n",
       "      <td>France's InVivo to buy one of the world's olde...</td>\n",
       "      <td>Commodities,BioTech,US Markets</td>\n",
       "      <td>Reuters</td>\n",
       "      <td>Malteries Soufflet, a branch of French agribus...</td>\n",
       "      <td>NVIV</td>\n",
       "      <td>https://www.nasdaq.com/articles/frances-invivo...</td>\n",
       "    </tr>\n",
       "    <tr>\n",
       "      <th>4</th>\n",
       "      <td>4</td>\n",
       "      <td>20230102</td>\n",
       "      <td>FEN</td>\n",
       "      <td>My Advice? Sell These 2 Dividend Funds in 2023</td>\n",
       "      <td>Markets,Stocks</td>\n",
       "      <td>BNK Invest</td>\n",
       "      <td>There's a disconnect setting up in the energy ...</td>\n",
       "      <td>FEN,TYG</td>\n",
       "      <td>https://www.nasdaq.com/articles/my-advice-sell...</td>\n",
       "    </tr>\n",
       "  </tbody>\n",
       "</table>\n",
       "</div>"
      ],
      "text/plain": [
       "   Unnamed: 0    rgs_dt tck_iem_cd  \\\n",
       "0           0  20230102        NGS   \n",
       "1           1  20230102        PFX   \n",
       "2           2  20230102        TYG   \n",
       "3           3  20230102       NVIV   \n",
       "4           4  20230102        FEN   \n",
       "\n",
       "                                             til_ifo  \\\n",
       "0  Hoak & Co. Urges NGS Board to Halt CEO Search ...   \n",
       "1  Here's Why PhenixFIN (PFX) is Poised for a Tur...   \n",
       "2     My Advice? Sell These 2 Dividend Funds in 2023   \n",
       "3  France's InVivo to buy one of the world's olde...   \n",
       "4     My Advice? Sell These 2 Dividend Funds in 2023   \n",
       "\n",
       "                     ctgy_cfc_ifo     mdi_ifo  \\\n",
       "0                       Investing      Fintel   \n",
       "1                Stocks,Investing       Zacks   \n",
       "2                  Markets,Stocks  BNK Invest   \n",
       "3  Commodities,BioTech,US Markets     Reuters   \n",
       "4                  Markets,Stocks  BNK Invest   \n",
       "\n",
       "                                        news_smy_ifo rld_ose_iem_tck_cd  \\\n",
       "0  Fintel reports that Hoak Public Equities, LP, ...                NGS   \n",
       "1  PhenixFIN  has been beaten down lately with to...                PFX   \n",
       "2  There's a disconnect setting up in the energy ...            FEN,TYG   \n",
       "3  Malteries Soufflet, a branch of French agribus...               NVIV   \n",
       "4  There's a disconnect setting up in the energy ...            FEN,TYG   \n",
       "\n",
       "                                             url_ifo  \n",
       "0  https://www.nasdaq.com/articles/hoak-co.-urges...  \n",
       "1  https://www.nasdaq.com/articles/heres-why-phen...  \n",
       "2  https://www.nasdaq.com/articles/my-advice-sell...  \n",
       "3  https://www.nasdaq.com/articles/frances-invivo...  \n",
       "4  https://www.nasdaq.com/articles/my-advice-sell...  "
      ]
     },
     "execution_count": 95,
     "metadata": {},
     "output_type": "execute_result"
    }
   ],
   "source": [
    "rss.head()"
   ]
  },
  {
   "cell_type": "code",
   "execution_count": 99,
   "id": "787d3be1",
   "metadata": {},
   "outputs": [],
   "source": [
    "# 새로 저장\n",
    "with open('D:/playdata_mini_proj/data/vectors_remove_trash.pickle', 'wb') as file:\n",
    "        pickle.dump(vectors, file)\n",
    "        \n",
    "with open('D:/playdata_mini_proj/data/RSS_for_keybert_remove_trash.pickle', 'wb') as file:\n",
    "        pickle.dump(rss, file)\n",
    "        \n",
    "with open('D:/playdata_mini_proj/data/keybert_result_remove_trash.pickle', 'wb') as file:\n",
    "        pickle.dump(keybert_result, file)"
   ]
  },
  {
   "cell_type": "markdown",
   "id": "495eb60f",
   "metadata": {},
   "source": [
    "## 차원 축소"
   ]
  },
  {
   "cell_type": "code",
   "execution_count": 100,
   "id": "d619f406",
   "metadata": {},
   "outputs": [],
   "source": [
    "# 데이터 불러오기\n",
    "with open('D:/playdata_mini_proj/data/vectors_remove_trash.pickle', 'rb') as file:\n",
    "    vectors = pickle.load(file)"
   ]
  },
  {
   "cell_type": "code",
   "execution_count": 104,
   "id": "2dfbd35c",
   "metadata": {},
   "outputs": [],
   "source": [
    "# 벡터를 일정 각도만큼 회전시키는 함수 정의\n",
    "from scipy.linalg import expm\n",
    "\n",
    "def rotate_vector(vector, angle_degrees):\n",
    "    # 각도를 라디안으로 변환\n",
    "    angle_radians = np.radians(angle_degrees)\n",
    "\n",
    "    # 회전 행렬 생성 (Identity 행렬)\n",
    "    identity_matrix = np.eye(vector.shape[0])  # 행의 크기를 인자로 사용\n",
    "\n",
    "    # 지수 행렬을 사용하여 회전 행렬 계산\n",
    "    rotation_matrix = expm(angle_radians * identity_matrix)\n",
    "\n",
    "    # 벡터를 열 벡터로 변환 (300x1 행렬)\n",
    "    vector = np.array(vector).reshape(-1, 1)\n",
    "\n",
    "    # 회전된 벡터 계산\n",
    "    rotated_vector = np.dot(rotation_matrix, vector)\n",
    "\n",
    "    # 회전된 벡터를 다시 1차원 배열로 변환\n",
    "    rotated_vector = rotated_vector.flatten()\n",
    "\n",
    "    return rotated_vector\n"
   ]
  },
  {
   "cell_type": "code",
   "execution_count": 107,
   "id": "27268ca2",
   "metadata": {},
   "outputs": [],
   "source": [
    "# 벡터 간 각도 계산 & 회전시키는 함수 호출하는 재귀함수 생겅\n",
    "def to_one_v(new, Vs, i):\n",
    "    \n",
    "    if i == 5:\n",
    "        return new\n",
    "    # 두 벡터의 내적을 계산\n",
    "    dot_product = np.dot(new, Vs[i])\n",
    "\n",
    "    # 각 벡터의 크기 계산\n",
    "    magnitude1 = np.linalg.norm(new)\n",
    "    magnitude2 = np.linalg.norm(Vs[i])\n",
    "\n",
    "    # 코사인 유사도 계산\n",
    "    similarity = dot_product / (magnitude1 * magnitude2)\n",
    "\n",
    "    # 각도 계산 (라디안에서 도로 변환)\n",
    "    angle_degrees = np.degrees(np.arccos(similarity))\n",
    "    new = rotate_vector(new, angle_degrees/2)\n",
    "    \n",
    "    return to_one_v(new, Vs,i+1)"
   ]
  },
  {
   "cell_type": "code",
   "execution_count": 108,
   "id": "7a931296",
   "metadata": {
    "scrolled": false
   },
   "outputs": [],
   "source": [
    "# 데이터 전체에 대하여 실행\n",
    "new_v = pd.DataFrame()\n",
    "new_v['result'] = ['nan'] * len(vectors)\n",
    "\n",
    "for i in range(len(vectors)):\n",
    "    new_v['result'][i] = to_one_v(vectors['result'][i][0], vectors['result'][i], 1)"
   ]
  },
  {
   "cell_type": "code",
   "execution_count": 110,
   "id": "7fb588e4",
   "metadata": {},
   "outputs": [],
   "source": [
    "# PICKLE 파일로 저장\n",
    "with open('D:/playdata_mini_proj/data/vectors_dim_rdct.pickle', 'wb') as file: pickle.dump(new_v, file)"
   ]
  },
  {
   "cell_type": "code",
   "execution_count": null,
   "id": "e74ef20f",
   "metadata": {},
   "outputs": [],
   "source": []
  }
 ],
 "metadata": {
  "kernelspec": {
   "display_name": "Python 3 (ipykernel)",
   "language": "python",
   "name": "python3"
  },
  "language_info": {
   "codemirror_mode": {
    "name": "ipython",
    "version": 3
   },
   "file_extension": ".py",
   "mimetype": "text/x-python",
   "name": "python",
   "nbconvert_exporter": "python",
   "pygments_lexer": "ipython3",
   "version": "3.8.17"
  }
 },
 "nbformat": 4,
 "nbformat_minor": 5
}
